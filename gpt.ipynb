{
 "cells": [
  {
   "cell_type": "code",
   "execution_count": 1,
   "metadata": {},
   "outputs": [],
   "source": [
    "with open('input.txt','r',encoding='utf-8') as f:\n",
    "    text=f.read()"
   ]
  },
  {
   "cell_type": "code",
   "execution_count": 6,
   "metadata": {},
   "outputs": [
    {
     "data": {
      "text/plain": [
       "1115394"
      ]
     },
     "execution_count": 6,
     "metadata": {},
     "output_type": "execute_result"
    }
   ],
   "source": [
    "len(text)"
   ]
  },
  {
   "cell_type": "code",
   "execution_count": 7,
   "metadata": {},
   "outputs": [
    {
     "name": "stdout",
     "output_type": "stream",
     "text": [
      "First Citizen:\n",
      "Before we proceed any further, hear me speak.\n",
      "\n",
      "All:\n",
      "Speak, speak.\n",
      "\n",
      "First Citizen:\n",
      "You are all resolved rather to die than to famish?\n",
      "\n",
      "All:\n",
      "Resolved. resolved.\n",
      "\n",
      "First Citizen:\n",
      "First, you know Caius Marcius is chief enemy to the people.\n",
      "\n",
      "All:\n",
      "We know't, we know't.\n",
      "\n",
      "First Citizen:\n",
      "Let us kill him, and we'll have corn at our own price.\n",
      "Is't a verdict?\n",
      "\n",
      "All:\n",
      "No more talking on't; let it be done: away, away!\n",
      "\n",
      "Second Citizen:\n",
      "One word, good citizens.\n",
      "\n",
      "First Citizen:\n",
      "We are accounted poor citizens, the patricians good.\n",
      "What authority surfeits on would relieve us: if they\n",
      "would yield us but the superfluity, while it were\n",
      "wholesome, we might guess they relieved us humanely;\n",
      "but they think we are too dear: the leanness that\n",
      "afflicts us, the object of our misery, is as an\n",
      "inventory to particularise their abundance; our\n",
      "sufferance is a gain to them Let us revenge this with\n",
      "our pikes, ere we become rakes: for the gods know I\n",
      "speak this in hunger for bread, not in thirst for revenge.\n",
      "\n",
      "\n"
     ]
    }
   ],
   "source": [
    "print(text[:1000])"
   ]
  },
  {
   "cell_type": "code",
   "execution_count": 8,
   "metadata": {},
   "outputs": [
    {
     "name": "stdout",
     "output_type": "stream",
     "text": [
      "[46, 47, 47, 1, 58, 46, 43, 56, 43]\n",
      "hii there\n"
     ]
    }
   ],
   "source": [
    "chars=sorted(list(set(text)))\n",
    "vocab_size=len(chars)\n",
    "itos={i:ch for i,ch in enumerate(chars)}\n",
    "stoi={ch:i for i,ch in itos.items()}\n",
    "encode=lambda s:[stoi[c] for c in s]\n",
    "decode=lambda l:''.join(itos[i] for i in l)\n",
    "print(encode(\"hii there\"))\n",
    "print(decode(encode(\"hii there\")))"
   ]
  },
  {
   "cell_type": "code",
   "execution_count": 1,
   "metadata": {},
   "outputs": [
    {
     "ename": "NameError",
     "evalue": "name 'encode' is not defined",
     "output_type": "error",
     "traceback": [
      "\u001b[1;31m---------------------------------------------------------------------------\u001b[0m",
      "\u001b[1;31mNameError\u001b[0m                                 Traceback (most recent call last)",
      "Input \u001b[1;32mIn [1]\u001b[0m, in \u001b[0;36m<cell line: 2>\u001b[1;34m()\u001b[0m\n\u001b[0;32m      1\u001b[0m \u001b[38;5;28;01mimport\u001b[39;00m \u001b[38;5;21;01mtorch\u001b[39;00m\n\u001b[1;32m----> 2\u001b[0m data\u001b[38;5;241m=\u001b[39m\u001b[43mencode\u001b[49m(text)\n\u001b[0;32m      3\u001b[0m data\u001b[38;5;241m=\u001b[39mtorch\u001b[38;5;241m.\u001b[39mtensor(data,dtype\u001b[38;5;241m=\u001b[39mtorch\u001b[38;5;241m.\u001b[39mlong)\n\u001b[0;32m      4\u001b[0m \u001b[38;5;28mprint\u001b[39m(data[:\u001b[38;5;241m100\u001b[39m])\n",
      "\u001b[1;31mNameError\u001b[0m: name 'encode' is not defined"
     ]
    }
   ],
   "source": [
    "import torch\n",
    "data=encode(text)\n",
    "data=torch.tensor(data,dtype=torch.long)\n",
    "print(data[:100])"
   ]
  },
  {
   "cell_type": "code",
   "execution_count": 10,
   "metadata": {},
   "outputs": [
    {
     "name": "stdout",
     "output_type": "stream",
     "text": [
      "torch.Size([1003854]) torch.Size([111540])\n"
     ]
    }
   ],
   "source": [
    "n=int(0.9*len(data))\n",
    "train=data[:n]\n",
    "test=data[n:]\n",
    "print(train.shape,test.shape)\n"
   ]
  },
  {
   "cell_type": "code",
   "execution_count": 11,
   "metadata": {},
   "outputs": [
    {
     "data": {
      "text/plain": [
       "tensor([5, 7, 2])"
      ]
     },
     "execution_count": 11,
     "metadata": {},
     "output_type": "execute_result"
    }
   ],
   "source": [
    "torch.randint(10,(3,))"
   ]
  },
  {
   "cell_type": "code",
   "execution_count": 12,
   "metadata": {},
   "outputs": [],
   "source": [
    "torch.manual_seed(1337)\n",
    "batch_size=4\n",
    "block_size=8\n",
    "\n",
    "def get_batch(split):\n",
    "    data=train if split==\"train\" else test \n",
    "    ix=torch.randint(len(data)-block_size,(batch_size,))\n",
    "    x=torch.stack([data[i:i+block_size] for i in ix])\n",
    "    y=torch.stack([data[i+1:i+block_size+1]for i in ix])\n",
    "    return x,y\n",
    "xb,yb=get_batch(train)"
   ]
  },
  {
   "cell_type": "code",
   "execution_count": 18,
   "metadata": {},
   "outputs": [
    {
     "data": {
      "text/plain": [
       "tensor([[ 6,  1, 52, 53, 58,  1, 58, 47],\n",
       "        [ 6,  1, 54, 50, 39, 52, 58, 43],\n",
       "        [ 1, 58, 46, 47, 57,  1, 50, 47],\n",
       "        [ 0, 32, 46, 43, 56, 43,  1, 42]])"
      ]
     },
     "execution_count": 18,
     "metadata": {},
     "output_type": "execute_result"
    }
   ],
   "source": [
    "xb"
   ]
  },
  {
   "cell_type": "code",
   "execution_count": 19,
   "metadata": {},
   "outputs": [
    {
     "data": {
      "text/plain": [
       "tensor([[ 1, 52, 53, 58,  1, 58, 47, 50],\n",
       "        [ 1, 54, 50, 39, 52, 58, 43, 58],\n",
       "        [58, 46, 47, 57,  1, 50, 47, 60],\n",
       "        [32, 46, 43, 56, 43,  1, 42, 53]])"
      ]
     },
     "execution_count": 19,
     "metadata": {},
     "output_type": "execute_result"
    }
   ],
   "source": [
    "yb"
   ]
  },
  {
   "cell_type": "code",
   "execution_count": 13,
   "metadata": {},
   "outputs": [
    {
     "name": "stdout",
     "output_type": "stream",
     "text": [
      "torch.Size([32, 65])\n",
      "tensor(4.4913, grad_fn=<NllLossBackward0>)\n",
      "\n",
      "Sr?qP-QWktXoL&jLDJgOLVz'RIoDqHdhsV&vLLxatjscMpwLERSPyao.qfzs$Ys$zF-w,;eEkzxjgCKFChs!iWW.ObzDnxA Ms$3\n"
     ]
    }
   ],
   "source": [
    "import torch\n",
    "import torch.nn as nn \n",
    "from torch.nn import functional as F \n",
    "torch.manual_seed(1337)\n",
    "\n",
    "class BigramLanguageModel(nn.Module):\n",
    "    def __init__(self,vocab_size):\n",
    "        super().__init__()\n",
    "        self.token_embedding_table=nn.Embedding(vocab_size,vocab_size)\n",
    "    def forward(self,idx,targets=None):\n",
    "        logits=self.token_embedding_table(idx)\n",
    "        if targets is None:\n",
    "            loss=None \n",
    "        else:\n",
    "            B,T,C=logits.shape\n",
    "            logits=logits.view(B*T,C)\n",
    "            targets=targets.view(B*T)\n",
    "            loss=F.cross_entropy(logits,targets)\n",
    "\n",
    "        return logits,loss \n",
    "    \n",
    "    def generate(self,idx,max_new_token):\n",
    "        for _ in range(max_new_token):\n",
    "            logits,loss=self(idx)\n",
    "            logits=logits[:,-1,:]\n",
    "            probs=F.softmax(logits,dim=-1)\n",
    "            idx.next=torch.multinomial(probs,num_samples=1)\n",
    "            idx=torch.cat((idx,idx.next),dim=1)\n",
    "        return idx\n",
    "    \n",
    "m=BigramLanguageModel(vocab_size)\n",
    "logits,loss=m(xb,yb)\n",
    "print(logits.shape)\n",
    "print(loss)\n",
    "print(decode(m.generate(idx=torch.zeros((1,1),dtype=torch.long),max_new_token=100)[0].tolist()))"
   ]
  },
  {
   "cell_type": "code",
   "execution_count": 20,
   "metadata": {},
   "outputs": [],
   "source": [
    "optimizer=torch.optim.AdamW(m.parameters(),lr=1e-3)"
   ]
  },
  {
   "cell_type": "code",
   "execution_count": 21,
   "metadata": {},
   "outputs": [
    {
     "name": "stdout",
     "output_type": "stream",
     "text": [
      "3.806382656097412\n"
     ]
    }
   ],
   "source": [
    "batch_size=32\n",
    "for steps in range(1000):\n",
    "    xb,yb=get_batch(\"train\")\n",
    "\n",
    "    logits,loss=m(xb,yb)\n",
    "    optimizer.zero_grad(set_to_none=True)\n",
    "    loss.backward()\n",
    "    optimizer.step()\n",
    "print(loss.item())"
   ]
  },
  {
   "cell_type": "code",
   "execution_count": 14,
   "metadata": {},
   "outputs": [
    {
     "name": "stdout",
     "output_type": "stream",
     "text": [
      "\n",
      "pdcbf?pGXepydZJSrF$Jrqt!:wwWSzPNxbjPiD&Q!a;yNt$Kr$o-gC$WSjJqfBKBySKtSKpwNNfyl&w:q-jluBatD$Lj;?yzyUca!UQ!vrpxZQgC-hlkq,ptKqHoiX-jjeLJ &slERj KUsBOL!mpJO!zLg'wNfqHAMgq'hZCWhu.W.IBcP \n",
      "RFJ&DEs,nw?pxE?xjNHHVxJ&D&vWWToiERJFuszPyZaNw$\n",
      "EQJMgzaveDDIoiMl&sMHkzdRptRCPVjwW.RSVMjs-bgRkzrBTEa!!oP fRSxq.PLboTMkX'DUYepxIBFAYuxKXe.jeh\n",
      "sa!3MGFrSjuM:wX!?BTMl!.?,M:bQzPHpYfN!Cbo'MmtDxBkDD3SBjyFdmY'DOqkWeRjlxyJB-bVbfd&jK$-A-w!P InZOmufBNa!oUAWa!wa!Ucn!\n",
      "dgqUxJ;I&uSqE&oT:zYCJjHNxyjFa-vSPIkqpf iNY.IF$gH'xqtRteh$J;aXlcxz\n"
     ]
    }
   ],
   "source": [
    "print(decode(m.generate(idx=torch.zeros((1,1),dtype=torch.long),max_new_token=500)[0].tolist()))"
   ]
  },
  {
   "cell_type": "code",
   "execution_count": 1,
   "metadata": {},
   "outputs": [],
   "source": [
    "import torch\n",
    "import torch.nn as nn \n",
    "from torch.nn import functional as F \n",
    "torch.manual_seed(1337)\n",
    "device='cuda' if torch.cuda.is_available() else 'cpu'"
   ]
  },
  {
   "cell_type": "code",
   "execution_count": 14,
   "metadata": {},
   "outputs": [
    {
     "name": "stdout",
     "output_type": "stream",
     "text": [
      "2.394822597503662\n",
      "\n",
      "Ke sonidin y y a!\n",
      "Caril.n y, denjxhece w illd CHAL, mer thoun s's:Conchuntilalllevise sthat dy hangilyoteng h hasbe pave pirance\n",
      "Rie hicomyonthar's\n",
      "Plinseard ith henoure wounonthioneir thondy, y heltieiengerofo'dsssit ey\n",
      "KIN d pe wither vouprrouthercc.\n",
      "hathe; d!\n",
      "My hind tt hinig t ouchos tes; st yo hind wotte grotonear 'so it t jod weancotha:\n",
      "h hay.JUCle n prids, r loncave w hollular s O:\n",
      "HIs; ht anjx?\n",
      "\n",
      "DUThinqunt.\n",
      "\n",
      "LaZAnde.\n",
      "athave l.\n",
      "KEONH:\n",
      "ARThanco be y,-hedarwnoddy scace, tridesar, wnl'shenou\n"
     ]
    }
   ],
   "source": [
    "with open('input.txt','r',encoding='utf-8') as f:\n",
    "    text=f.read()\n",
    "chars=sorted(list(set(text)))\n",
    "vocab_size=len(chars)\n",
    "itos={i:ch for i,ch in enumerate(chars)}\n",
    "stoi={ch:i for i,ch in itos.items()}\n",
    "encode=lambda s:[stoi[c] for c in s]\n",
    "decode=lambda l:''.join(itos[i] for i in l)\n",
    "\n",
    "data=encode(text)\n",
    "data=torch.tensor(data,dtype=torch.long)\n",
    "n=int(0.9*len(data))\n",
    "train=data[:n]\n",
    "test=data[n:]\n",
    "\n",
    "\n",
    "\n",
    "\n",
    "block_size=8\n",
    "\n",
    "def get_batch(split):\n",
    "    data=train if split==\"train\" else test \n",
    "    ix=torch.randint(len(data)-block_size,(batch_size,))\n",
    "    x=torch.stack([data[i:i+block_size] for i in ix])\n",
    "    y=torch.stack([data[i+1:i+block_size+1]for i in ix])\n",
    "    x,y=x.to(device),y.to(device)\n",
    "    return x,y\n",
    "\n",
    "\n",
    "\n",
    "\n",
    "class BigramLanguageModel(nn.Module):\n",
    "    def __init__(self,vocab_size):\n",
    "        super().__init__()\n",
    "        self.token_embedding_table=nn.Embedding(vocab_size,vocab_size)\n",
    "    \n",
    "    def forward(self,idx,targets=None):\n",
    "        logits=self.token_embedding_table(idx)\n",
    "        if targets is None:\n",
    "            loss=None \n",
    "        else:\n",
    "            B,T,C=logits.shape\n",
    "            logits=logits.view(B*T,C)\n",
    "            targets=targets.view(B*T)\n",
    "            loss=F.cross_entropy(logits,targets)\n",
    "\n",
    "        return logits,loss \n",
    "    \n",
    "    def generate(self,idx,max_new_token):\n",
    "        for _ in range(max_new_token):\n",
    "            logits,loss=self(idx)\n",
    "            logits=logits[:,-1,:]\n",
    "            probs=F.softmax(logits,dim=-1)\n",
    "            idx.next=torch.multinomial(probs,num_samples=1)\n",
    "            idx=torch.cat((idx,idx.next),dim=1)\n",
    "        return idx\n",
    "    \n",
    "model=BigramLanguageModel(vocab_size)\n",
    "m=model.to(device)\n",
    "logits,loss=m(xb,yb)\n",
    "optimizer=torch.optim.AdamW(m.parameters(),lr=1e-3)\n",
    "batch_size=32\n",
    "for steps in range(10000):\n",
    "    xb,yb=get_batch(\"train\")\n",
    "\n",
    "    logits,loss=m(xb,yb)\n",
    "    optimizer.zero_grad(set_to_none=True)\n",
    "    loss.backward()\n",
    "    optimizer.step()\n",
    "print(loss.item())\n",
    "context=torch.zeros((1,1),dtype=torch.long,device=device)\n",
    "print(decode(m.generate(context,max_new_token=500)[0].tolist()))"
   ]
  },
  {
   "cell_type": "code",
   "execution_count": 17,
   "metadata": {},
   "outputs": [
    {
     "data": {
      "text/plain": [
       "tensor([[1.0000, 0.0000, 0.0000],\n",
       "        [0.5000, 0.5000, 0.0000],\n",
       "        [0.3333, 0.3333, 0.3333]])"
      ]
     },
     "execution_count": 17,
     "metadata": {},
     "output_type": "execute_result"
    }
   ],
   "source": [
    "tri=torch.tril(torch.ones(3,3))\n",
    "tri=tri/torch.sum(tri,1,keepdim=True)\n",
    "tri"
   ]
  },
  {
   "cell_type": "code",
   "execution_count": 18,
   "metadata": {},
   "outputs": [
    {
     "data": {
      "text/plain": [
       "torch.Size([4, 8])"
      ]
     },
     "execution_count": 18,
     "metadata": {},
     "output_type": "execute_result"
    }
   ],
   "source": [
    "xb.shape"
   ]
  },
  {
   "cell_type": "code",
   "execution_count": 3,
   "metadata": {},
   "outputs": [
    {
     "data": {
      "text/plain": [
       "True"
      ]
     },
     "execution_count": 3,
     "metadata": {},
     "output_type": "execute_result"
    }
   ],
   "source": [
    "torch.cuda.is_available()"
   ]
  },
  {
   "cell_type": "code",
   "execution_count": 4,
   "metadata": {},
   "outputs": [
    {
     "ename": "NameError",
     "evalue": "name 'yb' is not defined",
     "output_type": "error",
     "traceback": [
      "\u001b[0;31m---------------------------------------------------------------------------\u001b[0m",
      "\u001b[0;31mNameError\u001b[0m                                 Traceback (most recent call last)",
      "Cell \u001b[0;32mIn[4], line 1\u001b[0m\n\u001b[0;32m----> 1\u001b[0m \u001b[43myb\u001b[49m\u001b[38;5;241m.\u001b[39mshape\n",
      "\u001b[0;31mNameError\u001b[0m: name 'yb' is not defined"
     ]
    }
   ],
   "source": [
    "yb.shape"
   ]
  },
  {
   "cell_type": "code",
   "execution_count": 1,
   "metadata": {},
   "outputs": [],
   "source": [
    "import pickle"
   ]
  },
  {
   "cell_type": "code",
   "execution_count": 9,
   "metadata": {},
   "outputs": [],
   "source": [
    "# import torch\n",
    "# import torch.nn as nn \n",
    "# from torch.nn import functional as F \n",
    "# torch.manual_seed(1337)\n",
    "# device='cuda' if torch.cuda.is_available() else 'cpu'\n",
    "\n",
    "\n",
    "with open('input.txt','r',encoding='utf-8') as f:\n",
    "    text=f.read()\n",
    "chars=sorted(list(set(text)))\n",
    "vocab_size=len(chars)\n",
    "itos={i:ch for i,ch in enumerate(chars)}\n",
    "stoi={ch:i for i,ch in itos.items()}\n",
    "encode=lambda s:[stoi[c] for c in s]\n",
    "decode=lambda l:''.join(itos[i] for i in l)\n",
    "\n",
    "data=encode(text)\n",
    "data=torch.tensor(data,dtype=torch.long)\n",
    "n=int(0.9*len(data))\n",
    "train=data[:n]\n",
    "test=data[n:]\n",
    "\n",
    "iters=5000\n",
    "batch_size=64\n",
    "block_size=128\n",
    "lr=3e-4\n",
    "n_embd=288\n",
    "n_head=6\n",
    "n_layer=6\n",
    "dropout=0.2\n",
    "\n",
    "def get_batch(split):\n",
    "    data=train if split==\"train\" else test \n",
    "    ix=torch.randint(len(data)-block_size,(batch_size,))\n",
    "    x=torch.stack([data[i:i+block_size] for i in ix])\n",
    "    y=torch.stack([data[i+1:i+block_size+1]for i in ix])\n",
    "    x,y=x.to(device),y.to(device)\n",
    "    return x,y\n",
    "\n",
    "\n",
    "@torch.no_grad()\n",
    "def estimate_loss():\n",
    "    out={}\n",
    "    model.eval()\n",
    "    for split in [\"train\",\"test\"]:\n",
    "        losses=torch.zeros(1000)\n",
    "        for k in range(1000):\n",
    "            X,Y=get_batch(split)\n",
    "            logits,loss=model(X,Y)\n",
    "            losses[k]=loss.item()\n",
    "        out[split]=losses.mean()\n",
    "    model.train()\n",
    "    return out\n",
    "\n",
    "\n",
    "class Head(nn.Module):\n",
    "    def __init__(self,head_size):\n",
    "        super().__init__()\n",
    "        self.key=nn.Linear(n_embd,head_size,bias=False)\n",
    "        self.query=nn.Linear(n_embd,head_size,bias=False)\n",
    "        self.value=nn.Linear(n_embd,head_size,bias=False)\n",
    "        self.register_buffer('tril',torch.tril(torch.ones(block_size,block_size)))\n",
    "\n",
    "        self.dropout=nn.Dropout(dropout)\n",
    "\n",
    "    def forward(self,x):\n",
    "        B,T,C=x.shape\n",
    "        k=self.key(x)\n",
    "        q=self.query(x)\n",
    "        v=self.value(x)\n",
    "        wei=q@k.transpose(-2,-1) / C**0.5\n",
    "        wei=wei.masked_fill(self.tril[:T,:T]==0,float('-inf'))\n",
    "        wei=F.softmax(wei,dim=-1)\n",
    "        wei=self.dropout(wei)\n",
    "        out=wei@v \n",
    "        return out \n",
    "    \n",
    "class MultiHeadAttention(nn.Module):\n",
    "    def __init__(self,num_heads,head_size):\n",
    "        super().__init__()\n",
    "        self.heads=nn.ModuleList([Head(head_size) for _ in range(num_heads)])\n",
    "        self.proj=nn.Linear(n_embd,n_embd)\n",
    "        self.dropout=nn.Dropout(dropout)\n",
    "    def forward(self,x):\n",
    "        out=torch.cat([h(x) for h in self.heads],dim=-1)\n",
    "        out=self.dropout(self.proj(out))\n",
    "        return out\n",
    "\n",
    "class FeedForward(nn.Module):\n",
    "    def __init__(self,n_embd):\n",
    "        super().__init__()\n",
    "        self.net=nn.Sequential(\n",
    "            nn.Linear(n_embd,4*n_embd),\n",
    "            nn.ReLU(),\n",
    "            nn.Linear(4*n_embd,n_embd),\n",
    "            nn.Dropout(dropout)\n",
    "        )\n",
    "    def forward(self,x):\n",
    "        return self.net(x)\n",
    "\n",
    "class Block(nn.Module):\n",
    "    def __init__(self,n_embd,n_head):\n",
    "        super().__init__()\n",
    "        head_size=n_embd//n_head\n",
    "        self.sa=MultiHeadAttention(n_head,head_size)\n",
    "        self.ffwd=FeedForward(n_embd)\n",
    "        self.ln1=nn.LayerNorm(n_embd)\n",
    "        self.ln2=nn.LayerNorm(n_embd)\n",
    "    def forward(self,x):\n",
    "        x=x+self.sa(self.ln1(x))\n",
    "        x=x+self.ffwd(self.ln2(x))\n",
    "        return x\n",
    "\n",
    "class BigramLanguageModel(nn.Module):\n",
    "    def __init__(self):\n",
    "        super().__init__()\n",
    "        self.token_embedding_table=nn.Embedding(vocab_size,n_embd)\n",
    "        self.pos_embedding_table=nn.Embedding(block_size,n_embd)\n",
    "        self.blocks=nn.Sequential(*[Block(n_embd,n_head=n_head) for _ in range(n_layer)])\n",
    "        self.ln=nn.LayerNorm(n_embd)\n",
    "        self.lm_head=nn.Linear(n_embd,vocab_size)\n",
    "    def forward(self,idx,targets=None):\n",
    "        B,T=idx.shape\n",
    "        tok_emb=self.token_embedding_table(idx)\n",
    "        pos_emb=self.pos_embedding_table(torch.arange(T,device=device))\n",
    "        x=tok_emb+pos_emb \n",
    "        x=self.blocks(x)\n",
    "        logits=self.lm_head(x)\n",
    "\n",
    "        if targets is None:\n",
    "            loss=None \n",
    "        else:\n",
    "            B,T,C=logits.shape\n",
    "            logits=logits.view(B*T,C)\n",
    "            targets=targets.view(B*T)\n",
    "            loss=F.cross_entropy(logits,targets)\n",
    "        return logits,loss \n",
    "    \n",
    "    def generate(self,idx,max_new_token):\n",
    "        for _ in range(max_new_token):\n",
    "            idx_cond=idx[:,-block_size:]\n",
    "            logits,loss=self(idx_cond)\n",
    "            logits=logits[:,-1,:]\n",
    "            probs=F.softmax(logits,dim=-1)\n",
    "            idx.next=torch.multinomial(probs,num_samples=1)\n",
    "            idx=torch.cat((idx,idx.next),dim=1)\n",
    "        return idx"
   ]
  },
  {
   "cell_type": "code",
   "execution_count": 19,
   "metadata": {},
   "outputs": [],
   "source": [
    "pickled_model=pickle.load(open(\"gpt8k.pkl\",\"rb\"))"
   ]
  },
  {
   "cell_type": "code",
   "execution_count": 53,
   "metadata": {},
   "outputs": [
    {
     "name": "stdout",
     "output_type": "stream",
     "text": [
      "BRUTUS:\n",
      "My lord.\n",
      "\n",
      "KING RICHARD III:\n",
      "Your lord some way, and hear it.\n",
      "\n",
      "JULIET:\n",
      "O eleven my love, that have I waste sord stain,\n",
      "And, at only a thousand  distorment.\n",
      "Thou hadst not enforce putt his tears of his:\n",
      "Wither repute thy brother's liken to be maid,\n",
      "Past wiell.\n",
      "\n",
      "CAMILLIUS:\n",
      "I am with tears to contempt.\n",
      "\n",
      "MENTIO:\n",
      "Show holds with me broke: but that I should\n",
      "not like make pabella.\n",
      "\n",
      "TRANIO:\n",
      "Who's good priests,\n",
      "Some let once take time my tongue's worsed Cepulis.\n",
      "Go RIVERRY:\n",
      "Who is in the common pupet horse 'stands,'\n",
      "To utter not the enterpite use that not come of truth,\n",
      "But still peace to kiss.\n",
      "Which was a comfort worser blon\n",
      "From one, with in citizen an out vantage?\n",
      "Besect you may read by them and part,\n",
      "But put me beloved me ashe;\n",
      "The crows it is my master, therein senseion's majesty.\n",
      "My holy eyes I changua eld in our auddor.\n",
      "\n",
      "GLOUCESTER:\n",
      "Good make young lady marnify mann gone.\n",
      "\n",
      "KING EDWARD IV:\n",
      "Art take in arrand them coronar's sake, to you;\n",
      "Thy bird is it, and does most fllows,\n",
      "And patience f\n"
     ]
    }
   ],
   "source": [
    "# context=torch.zeros((1,1),dtype=torch.long,device=device)\n",
    "print(decode(pickled_model.generate(context,max_new_token=1000)[0].tolist()))"
   ]
  },
  {
   "cell_type": "code",
   "execution_count": 52,
   "metadata": {},
   "outputs": [
    {
     "data": {
      "text/plain": [
       "'BRUTUS:'"
      ]
     },
     "execution_count": 52,
     "metadata": {},
     "output_type": "execute_result"
    }
   ],
   "source": [
    "context=encode(\"BRUTUS:\")\n",
    "context=(torch.tensor(context,dtype=torch.long,device=device))\n",
    "context=context.view(1,-1)\n",
    "decode(context[0].tolist())"
   ]
  }
 ],
 "metadata": {
  "kernelspec": {
   "display_name": "ml",
   "language": "python",
   "name": "python3"
  },
  "language_info": {
   "codemirror_mode": {
    "name": "ipython",
    "version": 3
   },
   "file_extension": ".py",
   "mimetype": "text/x-python",
   "name": "python",
   "nbconvert_exporter": "python",
   "pygments_lexer": "ipython3",
   "version": "3.10.13"
  }
 },
 "nbformat": 4,
 "nbformat_minor": 2
}
